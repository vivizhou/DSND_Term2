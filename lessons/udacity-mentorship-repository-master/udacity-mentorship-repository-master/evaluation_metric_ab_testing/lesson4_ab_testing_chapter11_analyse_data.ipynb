{
 "cells": [
  {
   "cell_type": "code",
   "execution_count": 1,
   "metadata": {},
   "outputs": [],
   "source": [
    "# importing necessary libraries\n",
    "import pandas as pd\n",
    "import numpy as np\n",
    "from scipy import stats"
   ]
  },
  {
   "cell_type": "code",
   "execution_count": 2,
   "metadata": {},
   "outputs": [
    {
     "data": {
      "text/html": [
       "<div>\n",
       "<style scoped>\n",
       "    .dataframe tbody tr th:only-of-type {\n",
       "        vertical-align: middle;\n",
       "    }\n",
       "\n",
       "    .dataframe tbody tr th {\n",
       "        vertical-align: top;\n",
       "    }\n",
       "\n",
       "    .dataframe thead th {\n",
       "        text-align: right;\n",
       "    }\n",
       "</style>\n",
       "<table border=\"1\" class=\"dataframe\">\n",
       "  <thead>\n",
       "    <tr style=\"text-align: right;\">\n",
       "      <th></th>\n",
       "      <th>Day</th>\n",
       "      <th>Control Cookies</th>\n",
       "      <th>Control Downloads</th>\n",
       "      <th>Control Licenses</th>\n",
       "      <th>Experiment Cookies</th>\n",
       "      <th>Experiment Downloads</th>\n",
       "      <th>Experiment Licenses</th>\n",
       "    </tr>\n",
       "  </thead>\n",
       "  <tbody>\n",
       "    <tr>\n",
       "      <th>0</th>\n",
       "      <td>1</td>\n",
       "      <td>1764</td>\n",
       "      <td>246</td>\n",
       "      <td>1</td>\n",
       "      <td>1850</td>\n",
       "      <td>339</td>\n",
       "      <td>3</td>\n",
       "    </tr>\n",
       "    <tr>\n",
       "      <th>1</th>\n",
       "      <td>2</td>\n",
       "      <td>1541</td>\n",
       "      <td>234</td>\n",
       "      <td>2</td>\n",
       "      <td>1590</td>\n",
       "      <td>281</td>\n",
       "      <td>2</td>\n",
       "    </tr>\n",
       "    <tr>\n",
       "      <th>2</th>\n",
       "      <td>3</td>\n",
       "      <td>1457</td>\n",
       "      <td>240</td>\n",
       "      <td>1</td>\n",
       "      <td>1515</td>\n",
       "      <td>274</td>\n",
       "      <td>1</td>\n",
       "    </tr>\n",
       "    <tr>\n",
       "      <th>3</th>\n",
       "      <td>4</td>\n",
       "      <td>1587</td>\n",
       "      <td>224</td>\n",
       "      <td>1</td>\n",
       "      <td>1541</td>\n",
       "      <td>284</td>\n",
       "      <td>2</td>\n",
       "    </tr>\n",
       "    <tr>\n",
       "      <th>4</th>\n",
       "      <td>5</td>\n",
       "      <td>1606</td>\n",
       "      <td>253</td>\n",
       "      <td>2</td>\n",
       "      <td>1643</td>\n",
       "      <td>292</td>\n",
       "      <td>3</td>\n",
       "    </tr>\n",
       "  </tbody>\n",
       "</table>\n",
       "</div>"
      ],
      "text/plain": [
       "   Day  Control Cookies  Control Downloads  Control Licenses  \\\n",
       "0    1             1764                246                 1   \n",
       "1    2             1541                234                 2   \n",
       "2    3             1457                240                 1   \n",
       "3    4             1587                224                 1   \n",
       "4    5             1606                253                 2   \n",
       "\n",
       "   Experiment Cookies  Experiment Downloads  Experiment Licenses  \n",
       "0                1850                   339                    3  \n",
       "1                1590                   281                    2  \n",
       "2                1515                   274                    1  \n",
       "3                1541                   284                    2  \n",
       "4                1643                   292                    3  "
      ]
     },
     "execution_count": 2,
     "metadata": {},
     "output_type": "execute_result"
    }
   ],
   "source": [
    "# read dataset\n",
    "df = pd.read_csv(\"homepage-experiment-data.csv\")\n",
    "df.head()"
   ]
  },
  {
   "cell_type": "markdown",
   "metadata": {},
   "source": [
    "### Number of observations in each group"
   ]
  },
  {
   "cell_type": "code",
   "execution_count": 4,
   "metadata": {},
   "outputs": [
    {
     "name": "stdout",
     "output_type": "stream",
     "text": [
      "Total number of observation:  94197\n",
      "Total number of control group:  46851\n",
      "Total number of experiment group:  47346\n"
     ]
    }
   ],
   "source": [
    "n_control = df['Control Cookies'].sum()\n",
    "n_experiment = df['Experiment Cookies'].sum()\n",
    "n_obs = n_control + n_experiment\n",
    "\n",
    "print(\"Total number of observation: \", n_obs)\n",
    "print(\"Total number of control group: \", n_control)\n",
    "print(\"Total number of experiment group: \", n_experiment)"
   ]
  },
  {
   "cell_type": "markdown",
   "metadata": {},
   "source": [
    "### p-value and z-score for the null hypothesis"
   ]
  },
  {
   "cell_type": "code",
   "execution_count": 5,
   "metadata": {},
   "outputs": [
    {
     "name": "stdout",
     "output_type": "stream",
     "text": [
      "z score:  -1.6095646049678511\n",
      "p value:  0.10749294050130412\n"
     ]
    }
   ],
   "source": [
    "# Compute a z-score and p-value\n",
    "p = 0.5\n",
    "sd = np.sqrt(p * (1-p) * n_obs)\n",
    "\n",
    "z = ((n_control + 0.5) - p * n_obs) / sd\n",
    "\n",
    "print(\"z score: \",z)\n",
    "print(\"p value: \", 2 * stats.norm.cdf(z))"
   ]
  },
  {
   "cell_type": "markdown",
   "metadata": {},
   "source": [
    "z score is within a reasonable range under the null hypothesis. Since we lack sufficient reason to reject the null, we can continue on to evaluating the evaluation metrics"
   ]
  },
  {
   "cell_type": "markdown",
   "metadata": {},
   "source": [
    "### p-value and z-score for the evaluation metric: Download Rate"
   ]
  },
  {
   "cell_type": "markdown",
   "metadata": {},
   "source": [
    "For understanding of the formula visit: https://stattrek.com/hypothesis-test/difference-in-proportions.aspx"
   ]
  },
  {
   "cell_type": "code",
   "execution_count": 6,
   "metadata": {},
   "outputs": [
    {
     "name": "stdout",
     "output_type": "stream",
     "text": [
      "Number of observation in Control group:  46851\n",
      "p1 :  0.16123455209067042 \n",
      "\n",
      "Number of observation in Experiment group:  47346\n",
      "p2 :  0.180543234908968 \n",
      "\n",
      "z score:  7.870833726066236\n",
      "p value:  1.7763568394002505e-15\n"
     ]
    }
   ],
   "source": [
    "# number of observation in control group\n",
    "n_control = df['Control Cookies'].sum()\n",
    "print(\"Number of observation in Control group: \", n_control)\n",
    "\n",
    "# number of downloads in control group\n",
    "n_control_downloads = df['Control Downloads'].sum()\n",
    "# proportion of downloads in control group\n",
    "p_control_downloads = n_control_downloads / n_control\n",
    "print('p1 : ', p_control_downloads, \"\\n\")\n",
    "\n",
    "# number of observation in experiment group\n",
    "n_experiment = df['Experiment Cookies'].sum()\n",
    "print(\"Number of observation in Experiment group: \", n_experiment)\n",
    "\n",
    "# number of downloads in experiment group\n",
    "n_experiment_downloads = df['Experiment Downloads'].sum()\n",
    "# proportion of downloads in experiment group\n",
    "p_experiment_downloads = n_experiment_downloads / n_experiment\n",
    "print('p2 : ', p_experiment_downloads, \"\\n\")\n",
    "\n",
    "# p = p1 + p2\n",
    "p_total = (n_control_downloads + n_experiment_downloads) / (n_control + n_experiment)\n",
    "\n",
    "# Compute standard error \n",
    "se_p = np.sqrt(p_total * (1 - p_total) * (1 / n_control + 1 / n_experiment))\n",
    "\n",
    "# compute z score\n",
    "z = (p_experiment_downloads - p_control_downloads) / se_p\n",
    "\n",
    "print('z score: ', z)\n",
    "print('p value: ', 1 - stats.norm.cdf(z))"
   ]
  },
  {
   "cell_type": "markdown",
   "metadata": {},
   "source": [
    "### p-value and z-score for the evaluation metric: License Purchase Rate"
   ]
  },
  {
   "cell_type": "code",
   "execution_count": 7,
   "metadata": {},
   "outputs": [
    {
     "name": "stdout",
     "output_type": "stream",
     "text": [
      "Number of observation in Control group:  33758\n",
      "p1 :  0.021032051661828307 \n",
      "\n",
      "Number of observation in Experiment group:  34338\n",
      "p2 :  0.021317490826489604 \n",
      "\n",
      "z score:  0.2586750111658684\n",
      "p value:  0.3979430008399871\n"
     ]
    }
   ],
   "source": [
    "# number of observation in control group (restricted for 21 days)\n",
    "n_control_21 = df.query('Day < 22')['Control Cookies'].sum()\n",
    "print(\"Number of observation in Control group: \", n_control_21)\n",
    "\n",
    "# number of purchases in control group\n",
    "n_control_licenses = df['Control Licenses'].sum()\n",
    "# proportion of purchases in control group\n",
    "p_control_licenses = n_control_licenses / n_control_21 \n",
    "print('p1 : ', p_control_licenses, \"\\n\")\n",
    "\n",
    "# number of observation in experiment group (restricted for 21 days)\n",
    "n_experiment_21 = df.query('Day < 22')['Experiment Cookies'].sum()\n",
    "print(\"Number of observation in Experiment group: \", n_experiment_21)\n",
    "\n",
    "# number of purchases in experiment group\n",
    "n_experiment_licenses = df['Experiment Licenses'].sum()\n",
    "# proportion of purchases in experiment group\n",
    "p_experiment_licenses = n_experiment_licenses / n_experiment_21\n",
    "print('p2 : ', p_experiment_licenses, \"\\n\")\n",
    "\n",
    "# p = p1 + p2\n",
    "p_total = (n_control_licenses + n_experiment_licenses) / (n_control_21 + n_experiment_21)\n",
    "\n",
    "# Compute standard error\n",
    "se_p = np.sqrt(p_total * (1 - p_total) * (1 / n_control_21 + 1 / n_experiment_21))\n",
    "\n",
    "# compute z score\n",
    "z = (p_experiment_licenses - p_control_licenses) / se_p\n",
    "\n",
    "print('z score: ', z)\n",
    "print('p value: ', 1 - stats.norm.cdf(z))"
   ]
  },
  {
   "cell_type": "markdown",
   "metadata": {},
   "source": [
    "Should we deploy the new homepage or not? Do you have any other thoughts about the results of the experiment?"
   ]
  },
  {
   "cell_type": "code",
   "execution_count": null,
   "metadata": {},
   "outputs": [],
   "source": []
  }
 ],
 "metadata": {
  "kernelspec": {
   "display_name": "Python 3 (ipykernel)",
   "language": "python",
   "name": "python3"
  },
  "language_info": {
   "codemirror_mode": {
    "name": "ipython",
    "version": 3
   },
   "file_extension": ".py",
   "mimetype": "text/x-python",
   "name": "python",
   "nbconvert_exporter": "python",
   "pygments_lexer": "ipython3",
   "version": "3.9.12"
  }
 },
 "nbformat": 4,
 "nbformat_minor": 4
}
