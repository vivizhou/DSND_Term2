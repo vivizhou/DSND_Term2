{
 "cells": [
  {
   "cell_type": "code",
   "execution_count": 28,
   "id": "28556653",
   "metadata": {},
   "outputs": [],
   "source": [
    "import pandas as pd\n",
    "import numpy as np\n",
    "import scipy"
   ]
  },
  {
   "cell_type": "code",
   "execution_count": 3,
   "id": "f7a988d7",
   "metadata": {},
   "outputs": [],
   "source": [
    "data = pd.read_csv(\"homepage-experiment-data.csv\")"
   ]
  },
  {
   "cell_type": "code",
   "execution_count": 4,
   "id": "e7e42f21",
   "metadata": {},
   "outputs": [
    {
     "data": {
      "text/html": [
       "<div>\n",
       "<style scoped>\n",
       "    .dataframe tbody tr th:only-of-type {\n",
       "        vertical-align: middle;\n",
       "    }\n",
       "\n",
       "    .dataframe tbody tr th {\n",
       "        vertical-align: top;\n",
       "    }\n",
       "\n",
       "    .dataframe thead th {\n",
       "        text-align: right;\n",
       "    }\n",
       "</style>\n",
       "<table border=\"1\" class=\"dataframe\">\n",
       "  <thead>\n",
       "    <tr style=\"text-align: right;\">\n",
       "      <th></th>\n",
       "      <th>Day</th>\n",
       "      <th>Control Cookies</th>\n",
       "      <th>Control Downloads</th>\n",
       "      <th>Control Licenses</th>\n",
       "      <th>Experiment Cookies</th>\n",
       "      <th>Experiment Downloads</th>\n",
       "      <th>Experiment Licenses</th>\n",
       "    </tr>\n",
       "  </thead>\n",
       "  <tbody>\n",
       "    <tr>\n",
       "      <th>0</th>\n",
       "      <td>1</td>\n",
       "      <td>1764</td>\n",
       "      <td>246</td>\n",
       "      <td>1</td>\n",
       "      <td>1850</td>\n",
       "      <td>339</td>\n",
       "      <td>3</td>\n",
       "    </tr>\n",
       "    <tr>\n",
       "      <th>1</th>\n",
       "      <td>2</td>\n",
       "      <td>1541</td>\n",
       "      <td>234</td>\n",
       "      <td>2</td>\n",
       "      <td>1590</td>\n",
       "      <td>281</td>\n",
       "      <td>2</td>\n",
       "    </tr>\n",
       "    <tr>\n",
       "      <th>2</th>\n",
       "      <td>3</td>\n",
       "      <td>1457</td>\n",
       "      <td>240</td>\n",
       "      <td>1</td>\n",
       "      <td>1515</td>\n",
       "      <td>274</td>\n",
       "      <td>1</td>\n",
       "    </tr>\n",
       "    <tr>\n",
       "      <th>3</th>\n",
       "      <td>4</td>\n",
       "      <td>1587</td>\n",
       "      <td>224</td>\n",
       "      <td>1</td>\n",
       "      <td>1541</td>\n",
       "      <td>284</td>\n",
       "      <td>2</td>\n",
       "    </tr>\n",
       "    <tr>\n",
       "      <th>4</th>\n",
       "      <td>5</td>\n",
       "      <td>1606</td>\n",
       "      <td>253</td>\n",
       "      <td>2</td>\n",
       "      <td>1643</td>\n",
       "      <td>292</td>\n",
       "      <td>3</td>\n",
       "    </tr>\n",
       "  </tbody>\n",
       "</table>\n",
       "</div>"
      ],
      "text/plain": [
       "   Day  Control Cookies  Control Downloads  Control Licenses  \\\n",
       "0    1             1764                246                 1   \n",
       "1    2             1541                234                 2   \n",
       "2    3             1457                240                 1   \n",
       "3    4             1587                224                 1   \n",
       "4    5             1606                253                 2   \n",
       "\n",
       "   Experiment Cookies  Experiment Downloads  Experiment Licenses  \n",
       "0                1850                   339                    3  \n",
       "1                1590                   281                    2  \n",
       "2                1515                   274                    1  \n",
       "3                1541                   284                    2  \n",
       "4                1643                   292                    3  "
      ]
     },
     "execution_count": 4,
     "metadata": {},
     "output_type": "execute_result"
    }
   ],
   "source": [
    "data.head()"
   ]
  },
  {
   "cell_type": "code",
   "execution_count": 10,
   "id": "bfb202ab",
   "metadata": {},
   "outputs": [
    {
     "data": {
      "text/plain": [
       "Index(['Day', 'Control Cookies', 'Control Downloads', 'Control Licenses',\n",
       "       'Experiment Cookies', 'Experiment Downloads', 'Experiment Licenses'],\n",
       "      dtype='object')"
      ]
     },
     "execution_count": 10,
     "metadata": {},
     "output_type": "execute_result"
    }
   ],
   "source": [
    "data.columns"
   ]
  },
  {
   "cell_type": "code",
   "execution_count": null,
   "id": "cac7b5ad",
   "metadata": {},
   "outputs": [],
   "source": [
    "#Comparing invariant matrix (the number of cookies in control group and experiment group)"
   ]
  },
  {
   "cell_type": "code",
   "execution_count": 16,
   "id": "4b3690f4",
   "metadata": {},
   "outputs": [],
   "source": [
    "sum_control = data['Control Cookies'].sum()"
   ]
  },
  {
   "cell_type": "code",
   "execution_count": 17,
   "id": "f2f63e76",
   "metadata": {},
   "outputs": [],
   "source": [
    "sum_expr = data['Experiment Cookies'].sum()"
   ]
  },
  {
   "cell_type": "code",
   "execution_count": 20,
   "id": "30250452",
   "metadata": {},
   "outputs": [
    {
     "data": {
      "text/plain": [
       "94197"
      ]
     },
     "execution_count": 20,
     "metadata": {},
     "output_type": "execute_result"
    }
   ],
   "source": [
    "n = sum_control + sum_expr\n",
    "n"
   ]
  },
  {
   "cell_type": "code",
   "execution_count": 24,
   "id": "8a15336a",
   "metadata": {},
   "outputs": [
    {
     "data": {
      "text/plain": [
       "153.4576488807254"
      ]
     },
     "execution_count": 24,
     "metadata": {},
     "output_type": "execute_result"
    }
   ],
   "source": [
    "sd = np.sqrt(0.5 * (1-0.5) * n)\n",
    "sd"
   ]
  },
  {
   "cell_type": "code",
   "execution_count": 26,
   "id": "6761faee",
   "metadata": {},
   "outputs": [
    {
     "data": {
      "text/plain": [
       "-1.6095646049678511"
      ]
     },
     "execution_count": 26,
     "metadata": {},
     "output_type": "execute_result"
    }
   ],
   "source": [
    "z = ((sum_control + 0.5) - 0.5 * n ) / sd\n",
    "z"
   ]
  },
  {
   "cell_type": "code",
   "execution_count": 30,
   "id": "4495245e",
   "metadata": {},
   "outputs": [
    {
     "data": {
      "text/plain": [
       "0.10749294050130412"
      ]
     },
     "execution_count": 30,
     "metadata": {},
     "output_type": "execute_result"
    }
   ],
   "source": [
    "scipy.stats.norm.sf(abs(z))*2"
   ]
  },
  {
   "cell_type": "code",
   "execution_count": 44,
   "id": "6e3c212f",
   "metadata": {},
   "outputs": [
    {
     "data": {
      "text/html": [
       "<div>\n",
       "<style scoped>\n",
       "    .dataframe tbody tr th:only-of-type {\n",
       "        vertical-align: middle;\n",
       "    }\n",
       "\n",
       "    .dataframe tbody tr th {\n",
       "        vertical-align: top;\n",
       "    }\n",
       "\n",
       "    .dataframe thead th {\n",
       "        text-align: right;\n",
       "    }\n",
       "</style>\n",
       "<table border=\"1\" class=\"dataframe\">\n",
       "  <thead>\n",
       "    <tr style=\"text-align: right;\">\n",
       "      <th></th>\n",
       "      <th>Day</th>\n",
       "      <th>Control Cookies</th>\n",
       "      <th>Control Downloads</th>\n",
       "      <th>Control Licenses</th>\n",
       "      <th>Experiment Cookies</th>\n",
       "      <th>Experiment Downloads</th>\n",
       "      <th>Experiment Licenses</th>\n",
       "    </tr>\n",
       "  </thead>\n",
       "  <tbody>\n",
       "    <tr>\n",
       "      <th>16</th>\n",
       "      <td>17</td>\n",
       "      <td>1573</td>\n",
       "      <td>252</td>\n",
       "      <td>32</td>\n",
       "      <td>1551</td>\n",
       "      <td>295</td>\n",
       "      <td>36</td>\n",
       "    </tr>\n",
       "    <tr>\n",
       "      <th>17</th>\n",
       "      <td>18</td>\n",
       "      <td>1603</td>\n",
       "      <td>260</td>\n",
       "      <td>33</td>\n",
       "      <td>1607</td>\n",
       "      <td>281</td>\n",
       "      <td>27</td>\n",
       "    </tr>\n",
       "    <tr>\n",
       "      <th>18</th>\n",
       "      <td>19</td>\n",
       "      <td>1596</td>\n",
       "      <td>263</td>\n",
       "      <td>29</td>\n",
       "      <td>1625</td>\n",
       "      <td>289</td>\n",
       "      <td>29</td>\n",
       "    </tr>\n",
       "    <tr>\n",
       "      <th>19</th>\n",
       "      <td>20</td>\n",
       "      <td>1817</td>\n",
       "      <td>320</td>\n",
       "      <td>35</td>\n",
       "      <td>1780</td>\n",
       "      <td>315</td>\n",
       "      <td>23</td>\n",
       "    </tr>\n",
       "    <tr>\n",
       "      <th>20</th>\n",
       "      <td>21</td>\n",
       "      <td>1602</td>\n",
       "      <td>271</td>\n",
       "      <td>38</td>\n",
       "      <td>1588</td>\n",
       "      <td>256</td>\n",
       "      <td>44</td>\n",
       "    </tr>\n",
       "  </tbody>\n",
       "</table>\n",
       "</div>"
      ],
      "text/plain": [
       "    Day  Control Cookies  Control Downloads  Control Licenses  \\\n",
       "16   17             1573                252                32   \n",
       "17   18             1603                260                33   \n",
       "18   19             1596                263                29   \n",
       "19   20             1817                320                35   \n",
       "20   21             1602                271                38   \n",
       "\n",
       "    Experiment Cookies  Experiment Downloads  Experiment Licenses  \n",
       "16                1551                   295                   36  \n",
       "17                1607                   281                   27  \n",
       "18                1625                   289                   29  \n",
       "19                1780                   315                   23  \n",
       "20                1588                   256                   44  "
      ]
     },
     "execution_count": 44,
     "metadata": {},
     "output_type": "execute_result"
    }
   ],
   "source": [
    "data_subset = data[data['Day'].isin(range(22))]\n",
    "data_subset.tail()"
   ]
  },
  {
   "cell_type": "code",
   "execution_count": 46,
   "id": "beb87ab1",
   "metadata": {},
   "outputs": [
    {
     "data": {
      "text/plain": [
       "6.186463009931895"
      ]
     },
     "execution_count": 46,
     "metadata": {},
     "output_type": "execute_result"
    }
   ],
   "source": [
    "#compare download rate\n",
    "data_subset = data[data['Day'].isin(range(22))]\n",
    "n_expr = data_subset['Experiment Cookies'].sum()\n",
    "n_cont = data_subset['Control Cookies'].sum()\n",
    "d_expr = data_subset['Experiment Downloads'].sum()\n",
    "d_cont = data_subset['Control Downloads'].sum()\n",
    "d_rate_expr = d_expr / n_expr\n",
    "d_rate_cont = d_cont / n_cont\n",
    "p = (d_expr + d_cont)/(n_expr + n_cont)\n",
    "se_p = (np.sqrt(p * (1-p) * (1 / n_expr + 1 / n_cont)))\n",
    "z = (d_rate_expr - d_rate_cont)/se_p\n",
    "z"
   ]
  },
  {
   "cell_type": "code",
   "execution_count": 40,
   "id": "fd41ff02",
   "metadata": {},
   "outputs": [
    {
     "data": {
      "text/plain": [
       "1.7763568394002505e-15"
      ]
     },
     "execution_count": 40,
     "metadata": {},
     "output_type": "execute_result"
    }
   ],
   "source": [
    "1-scipy.stats.norm.cdf(z)"
   ]
  },
  {
   "cell_type": "code",
   "execution_count": 49,
   "id": "ecad6fe0",
   "metadata": {},
   "outputs": [
    {
     "data": {
      "text/html": [
       "<div>\n",
       "<style scoped>\n",
       "    .dataframe tbody tr th:only-of-type {\n",
       "        vertical-align: middle;\n",
       "    }\n",
       "\n",
       "    .dataframe tbody tr th {\n",
       "        vertical-align: top;\n",
       "    }\n",
       "\n",
       "    .dataframe thead th {\n",
       "        text-align: right;\n",
       "    }\n",
       "</style>\n",
       "<table border=\"1\" class=\"dataframe\">\n",
       "  <thead>\n",
       "    <tr style=\"text-align: right;\">\n",
       "      <th></th>\n",
       "      <th>Day</th>\n",
       "      <th>Control Cookies</th>\n",
       "      <th>Control Downloads</th>\n",
       "      <th>Control Licenses</th>\n",
       "      <th>Experiment Cookies</th>\n",
       "      <th>Experiment Downloads</th>\n",
       "      <th>Experiment Licenses</th>\n",
       "    </tr>\n",
       "  </thead>\n",
       "  <tbody>\n",
       "    <tr>\n",
       "      <th>6</th>\n",
       "      <td>7</td>\n",
       "      <td>1534</td>\n",
       "      <td>262</td>\n",
       "      <td>5</td>\n",
       "      <td>1555</td>\n",
       "      <td>276</td>\n",
       "      <td>8</td>\n",
       "    </tr>\n",
       "    <tr>\n",
       "      <th>7</th>\n",
       "      <td>8</td>\n",
       "      <td>1798</td>\n",
       "      <td>331</td>\n",
       "      <td>12</td>\n",
       "      <td>1787</td>\n",
       "      <td>326</td>\n",
       "      <td>20</td>\n",
       "    </tr>\n",
       "    <tr>\n",
       "      <th>8</th>\n",
       "      <td>9</td>\n",
       "      <td>1478</td>\n",
       "      <td>223</td>\n",
       "      <td>30</td>\n",
       "      <td>1553</td>\n",
       "      <td>298</td>\n",
       "      <td>38</td>\n",
       "    </tr>\n",
       "    <tr>\n",
       "      <th>9</th>\n",
       "      <td>10</td>\n",
       "      <td>1461</td>\n",
       "      <td>236</td>\n",
       "      <td>32</td>\n",
       "      <td>1458</td>\n",
       "      <td>289</td>\n",
       "      <td>23</td>\n",
       "    </tr>\n",
       "    <tr>\n",
       "      <th>10</th>\n",
       "      <td>11</td>\n",
       "      <td>1478</td>\n",
       "      <td>240</td>\n",
       "      <td>35</td>\n",
       "      <td>1555</td>\n",
       "      <td>279</td>\n",
       "      <td>36</td>\n",
       "    </tr>\n",
       "  </tbody>\n",
       "</table>\n",
       "</div>"
      ],
      "text/plain": [
       "    Day  Control Cookies  Control Downloads  Control Licenses  \\\n",
       "6     7             1534                262                 5   \n",
       "7     8             1798                331                12   \n",
       "8     9             1478                223                30   \n",
       "9    10             1461                236                32   \n",
       "10   11             1478                240                35   \n",
       "\n",
       "    Experiment Cookies  Experiment Downloads  Experiment Licenses  \n",
       "6                 1555                   276                    8  \n",
       "7                 1787                   326                   20  \n",
       "8                 1553                   298                   38  \n",
       "9                 1458                   289                   23  \n",
       "10                1555                   279                   36  "
      ]
     },
     "execution_count": 49,
     "metadata": {},
     "output_type": "execute_result"
    }
   ],
   "source": [
    "data_subset2 = data[data['Day'].isin(range(8,29))]\n",
    "data_subset2.head()"
   ]
  },
  {
   "cell_type": "code",
   "execution_count": 53,
   "id": "96635f8c",
   "metadata": {},
   "outputs": [
    {
     "data": {
      "text/plain": [
       "0.2586750111658684"
      ]
     },
     "execution_count": 53,
     "metadata": {},
     "output_type": "execute_result"
    }
   ],
   "source": [
    "#compare purchase rate\n",
    "data_subset = data[data['Day'].isin(range(22))]\n",
    "n_expr = data_subset['Experiment Cookies'].sum()\n",
    "n_cont = data_subset['Control Cookies'].sum()\n",
    "l_expr = data['Experiment Licenses'].sum()\n",
    "l_cont = data['Control Licenses'].sum()\n",
    "l_rate_expr = l_expr / n_expr\n",
    "l_rate_cont = l_cont / n_cont\n",
    "p = (l_expr + l_cont)/(n_expr + n_cont)\n",
    "se_p = (np.sqrt(p * (1-p) * (1 / n_expr + 1 / n_cont)))\n",
    "z = (l_rate_expr - l_rate_cont)/se_p\n",
    "z"
   ]
  },
  {
   "cell_type": "code",
   "execution_count": 57,
   "id": "b5d5347a",
   "metadata": {},
   "outputs": [
    {
     "data": {
      "text/plain": [
       "0.3979430008399871"
      ]
     },
     "execution_count": 57,
     "metadata": {},
     "output_type": "execute_result"
    }
   ],
   "source": [
    "1-scipy.stats.norm.cdf(z)"
   ]
  },
  {
   "cell_type": "code",
   "execution_count": null,
   "id": "93f25d0e",
   "metadata": {},
   "outputs": [],
   "source": []
  }
 ],
 "metadata": {
  "kernelspec": {
   "display_name": "Python 3 (ipykernel)",
   "language": "python",
   "name": "python3"
  },
  "language_info": {
   "codemirror_mode": {
    "name": "ipython",
    "version": 3
   },
   "file_extension": ".py",
   "mimetype": "text/x-python",
   "name": "python",
   "nbconvert_exporter": "python",
   "pygments_lexer": "ipython3",
   "version": "3.9.12"
  }
 },
 "nbformat": 4,
 "nbformat_minor": 5
}
