{
 "cells": [
  {
   "cell_type": "markdown",
   "metadata": {},
   "source": [
    "# Cleaning Quiz: Udacity's Course Catalog\n",
    "It's your turn! Udacity's [course catalog page](https://www.udacity.com/courses/all) has changed since the last video was filmed. One notable change is the introduction of  _schools_.\n",
    "\n",
    "In this activity, you're going to perform similar actions with BeautifulSoup to extract the following information from each course listing on the page:\n",
    "1. The course name - e.g. \"Data Analyst\"\n",
    "2. The school the course belongs to - e.g. \"School of Data Science\"\n",
    "\n",
    "**Note: All solution notebooks can be found by clicking on the Jupyter icon on the top left of this workspace.**"
   ]
  },
  {
   "cell_type": "markdown",
   "metadata": {},
   "source": [
    "### Step 1: Get text from Udacity's course catalog web page\n",
    "You can use the `requests` library to do this.\n",
    "\n",
    "Outputting all the javascript, CSS, and text may overload the space available to load this notebook, so we omit a print statement here."
   ]
  },
  {
   "cell_type": "code",
   "execution_count": 2,
   "metadata": {},
   "outputs": [],
   "source": [
    "# import statements\n",
    "import requests\n",
    "from bs4 import BeautifulSoup"
   ]
  },
  {
   "cell_type": "code",
   "execution_count": 3,
   "metadata": {},
   "outputs": [],
   "source": [
    "# fetch web page\n",
    "r = requests.get(\"https://www.udacity.com/courses/all\")"
   ]
  },
  {
   "cell_type": "markdown",
   "metadata": {},
   "source": [
    "### Step 2: Use BeautifulSoup to remove HTML tags\n",
    "Use `\"lxml\"` rather than `\"html5lib\"`.\n",
    "\n",
    "Again, printing this entire result may overload the space available to load this notebook, so we omit a print statement here."
   ]
  },
  {
   "cell_type": "code",
   "execution_count": 4,
   "metadata": {},
   "outputs": [],
   "source": [
    "soup = BeautifulSoup(r.text, \"lxml\")"
   ]
  },
  {
   "cell_type": "markdown",
   "metadata": {},
   "source": [
    "### Step 3: Find all course summaries\n",
    "Use the BeautifulSoup's `find_all` method to select based on tag type and class name. Just like in the video, you can right click on the item, and click \"Inspect\" to view its html on a web page."
   ]
  },
  {
   "cell_type": "code",
   "execution_count": 7,
   "metadata": {},
   "outputs": [
    {
     "name": "stdout",
     "output_type": "stream",
     "text": [
      "Number of Courses: 70\n"
     ]
    }
   ],
   "source": [
    "# Find all course summaries\n",
    "summaries = soup.find_all(\"li\")\n",
    "print('Number of Courses:', len(summaries))"
   ]
  },
  {
   "cell_type": "markdown",
   "metadata": {},
   "source": [
    "### Step 4: Inspect the first summary to find selectors for the course name and school\n",
    "Tip: `.prettify()` is a super helpful method BeautifulSoup provides to output html in a nicely indented form! Make sure to use `print()` to ensure whitespace is displayed properly."
   ]
  },
  {
   "cell_type": "code",
   "execution_count": 8,
   "metadata": {},
   "outputs": [
    {
     "name": "stdout",
     "output_type": "stream",
     "text": [
      "<li>\n",
      " <a href=\"/course/data-engineer-nanodegree--nd027\">\n",
      "  Data Engineer\n",
      " </a>\n",
      "</li>\n",
      "\n"
     ]
    }
   ],
   "source": [
    "# print the first summary in summaries\n",
    "print(summaries[0].prettify())"
   ]
  },
  {
   "cell_type": "markdown",
   "metadata": {},
   "source": [
    "Look for selectors that contain the courses title and school name text you want to extract. Then, use the `select_one` method on the summary object to pull out the html with those selectors. Afterwards, don't forget to do some extra cleaning to isolate the names (get rid of unnecessary html), as you saw in the last video."
   ]
  },
  {
   "cell_type": "code",
   "execution_count": 9,
   "metadata": {},
   "outputs": [
    {
     "data": {
      "text/plain": [
       "'Data Engineer'"
      ]
     },
     "execution_count": 9,
     "metadata": {},
     "output_type": "execute_result"
    }
   ],
   "source": [
    "# Extract course title\n",
    "summaries[0].select_one(\"a\").get_text().strip()"
   ]
  },
  {
   "cell_type": "code",
   "execution_count": 13,
   "metadata": {},
   "outputs": [
    {
     "data": {
      "text/plain": [
       "'Product Manager'"
      ]
     },
     "execution_count": 13,
     "metadata": {},
     "output_type": "execute_result"
    }
   ],
   "source": [
    "# Extract school\n",
    "summaries[1].select_one(\"a\").get_text().strip()"
   ]
  },
  {
   "cell_type": "code",
   "execution_count": 14,
   "metadata": {},
   "outputs": [
    {
     "data": {
      "text/plain": [
       "'Programming for Data Science with Python'"
      ]
     },
     "execution_count": 14,
     "metadata": {},
     "output_type": "execute_result"
    }
   ],
   "source": [
    "summaries[3].select_one(\"a\").get_text().strip()"
   ]
  },
  {
   "cell_type": "markdown",
   "metadata": {},
   "source": [
    "### Step 5: Collect names and schools of ALL course listings\n",
    "Reuse your code from the previous step, but now in a loop to extract the name and school from every course summary in `summaries`!"
   ]
  },
  {
   "cell_type": "code",
   "execution_count": 23,
   "metadata": {},
   "outputs": [
    {
     "name": "stdout",
     "output_type": "stream",
     "text": [
      "yes\n"
     ]
    }
   ],
   "source": [
    "if summaries[21].select_one(\"a\") is None:\n",
    "    print(\"yes\")\n"
   ]
  },
  {
   "cell_type": "code",
   "execution_count": 26,
   "metadata": {},
   "outputs": [
    {
     "name": "stdout",
     "output_type": "stream",
     "text": [
      "['Data Engineer', 'Product Manager', 'Introduction to Programming', 'Programming for Data Science with Python', 'C++', 'Business Analytics', 'Business Analytics', 'SQL', 'Data Engineer', 'Data Analyst', 'Intro to Programming', 'Digital Marketing', 'Self Driving Car Engineer', 'Artificial Intelligence', 'Artificial Intelligence', 'Deep Learning', 'Digital Marketing', 'Flying Car and Autonomous Flight Engineer', 'Intro to Self-Driving Cars', 'Machine Learning Engineer', 'Robotics Software Engineer', 'School of Artificial Intelligence', 'School of Autonomous Systems', 'School of Business', 'School of Cloud Computing', 'School of Cybersecurity', 'School of Data Science', 'School of Programming', 'School of Product Management', 'Udacity for Enterprise', 'Udacity for Enterprise', 'Digital Transformation with Udacity', 'Artificial Intelligence for Enterprise', 'Cybersecurity for Enterprise', 'Data Science for Enterprise', 'Udacity for Financial Services', 'Corporate Social Responsibility', 'Train-to-Hire', 'Enterprise Resource Center', 'Udacity for Government', 'Udacity for Individuals', 'Catalog', 'Catalog', 'Career Services', 'Student Success', 'Udacity Talks', 'Scholarships', 'What is AI?', 'About', 'Blog', 'In the News', 'Jobs at Udacity', 'Partners', 'Affiliates', 'Become an Instructor', 'Contact Us', 'Contact Us', 'Help and FAQ', 'Service Status', 'Tech Requirements', '', '', '', '', '', 'Legal & Privacy', 'Site Map']\n"
     ]
    }
   ],
   "source": [
    "courses = []\n",
    "for summary in summaries:\n",
    "    # append name and school of each summary to courses list\n",
    "    if summary.select_one(\"a\") is not None:\n",
    "        title = summary.select_one(\"a\").get_text().strip()\n",
    "        courses.append((title))\n",
    "print(courses)"
   ]
  },
  {
   "cell_type": "code",
   "execution_count": 27,
   "metadata": {},
   "outputs": [
    {
     "name": "stdout",
     "output_type": "stream",
     "text": [
      "67 course summaries found. Sample:\n"
     ]
    },
    {
     "data": {
      "text/plain": [
       "['Data Engineer',\n",
       " 'Product Manager',\n",
       " 'Introduction to Programming',\n",
       " 'Programming for Data Science with Python',\n",
       " 'C++',\n",
       " 'Business Analytics',\n",
       " 'Business Analytics',\n",
       " 'SQL',\n",
       " 'Data Engineer',\n",
       " 'Data Analyst',\n",
       " 'Intro to Programming',\n",
       " 'Digital Marketing',\n",
       " 'Self Driving Car Engineer',\n",
       " 'Artificial Intelligence',\n",
       " 'Artificial Intelligence',\n",
       " 'Deep Learning',\n",
       " 'Digital Marketing',\n",
       " 'Flying Car and Autonomous Flight Engineer',\n",
       " 'Intro to Self-Driving Cars',\n",
       " 'Machine Learning Engineer']"
      ]
     },
     "execution_count": 27,
     "metadata": {},
     "output_type": "execute_result"
    }
   ],
   "source": [
    "# display results\n",
    "print(len(courses), \"course summaries found. Sample:\")\n",
    "courses[:20]"
   ]
  },
  {
   "cell_type": "code",
   "execution_count": null,
   "metadata": {},
   "outputs": [],
   "source": []
  }
 ],
 "metadata": {
  "kernelspec": {
   "display_name": "Python 3",
   "language": "python",
   "name": "python3"
  },
  "language_info": {
   "codemirror_mode": {
    "name": "ipython",
    "version": 3
   },
   "file_extension": ".py",
   "mimetype": "text/x-python",
   "name": "python",
   "nbconvert_exporter": "python",
   "pygments_lexer": "ipython3",
   "version": "3.8.8"
  }
 },
 "nbformat": 4,
 "nbformat_minor": 2
}
