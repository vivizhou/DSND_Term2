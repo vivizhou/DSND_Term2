{
 "cells": [
  {
   "cell_type": "markdown",
   "metadata": {},
   "source": [
    "# Cleaning Data\n",
    "\n",
    "Cleaning data is a big topic. Every data set might have its own issues whether that involves missing values, duplicated entries, data entry mistakes, etc. In this exercise, you'll do some data cleaning on the World Bank projects and World Bank indicators data sets. \n",
    "\n",
    "Currently, the projects data and the indicators data have different values for country names. Your task in this exercise is to clean both data sets so that they have consistent country names. This will allow you to join the two data sets together. Cleaning data, unfortunately, can be tedious and take a lot of your time as a data scientist.\n",
    "\n",
    "Why might you want to join these data sets together? What if, for example, you wanted to run linear regression to try to predict project costs based on indicator data? Or you might want to analyze the types of projects that get approved versus the indicator data. For example, do countries with low rates of rural electrification have more rural themed projects?"
   ]
  },
  {
   "cell_type": "markdown",
   "metadata": {},
   "source": [
    "# Part 1 - Explore the Data\n",
    "\n",
    "Run the code cells below to import the data sets. The code cell will also output the unique country names in each data set."
   ]
  },
  {
   "cell_type": "code",
   "execution_count": 4,
   "metadata": {},
   "outputs": [],
   "source": [
    "import pandas as pd\n",
    "\n",
    "# read in the population data and drop the final column\n",
    "df_indicator = pd.read_csv('../data/population_data.csv', skiprows=4)\n",
    "df_indicator.drop(['Unnamed: 62'], axis=1, inplace=True)\n",
    "\n",
    "# read in the projects data set with all columns type string\n",
    "df_projects = pd.read_csv('../data/projects_data.csv', dtype=str)\n",
    "df_projects.drop(['Unnamed: 56'], axis=1, inplace=True)"
   ]
  },
  {
   "cell_type": "markdown",
   "metadata": {},
   "source": [
    "The next code cell outputs the unique country names and ISO abbreviations in the population indicator data set. You'll notice a few values that represent world regions such as 'East Asia & Pacific' and 'East Asia & Pacific (excluding high income)'."
   ]
  },
  {
   "cell_type": "code",
   "execution_count": 5,
   "metadata": {},
   "outputs": [
    {
     "data": {
      "text/html": [
       "<div>\n",
       "<style scoped>\n",
       "    .dataframe tbody tr th:only-of-type {\n",
       "        vertical-align: middle;\n",
       "    }\n",
       "\n",
       "    .dataframe tbody tr th {\n",
       "        vertical-align: top;\n",
       "    }\n",
       "\n",
       "    .dataframe thead th {\n",
       "        text-align: right;\n",
       "    }\n",
       "</style>\n",
       "<table border=\"1\" class=\"dataframe\">\n",
       "  <thead>\n",
       "    <tr style=\"text-align: right;\">\n",
       "      <th></th>\n",
       "      <th>Country Name</th>\n",
       "      <th>Country Code</th>\n",
       "    </tr>\n",
       "  </thead>\n",
       "  <tbody>\n",
       "    <tr>\n",
       "      <th>0</th>\n",
       "      <td>Aruba</td>\n",
       "      <td>ABW</td>\n",
       "    </tr>\n",
       "    <tr>\n",
       "      <th>1</th>\n",
       "      <td>Afghanistan</td>\n",
       "      <td>AFG</td>\n",
       "    </tr>\n",
       "    <tr>\n",
       "      <th>2</th>\n",
       "      <td>Angola</td>\n",
       "      <td>AGO</td>\n",
       "    </tr>\n",
       "    <tr>\n",
       "      <th>3</th>\n",
       "      <td>Albania</td>\n",
       "      <td>ALB</td>\n",
       "    </tr>\n",
       "    <tr>\n",
       "      <th>4</th>\n",
       "      <td>Andorra</td>\n",
       "      <td>AND</td>\n",
       "    </tr>\n",
       "    <tr>\n",
       "      <th>...</th>\n",
       "      <td>...</td>\n",
       "      <td>...</td>\n",
       "    </tr>\n",
       "    <tr>\n",
       "      <th>259</th>\n",
       "      <td>Kosovo</td>\n",
       "      <td>XKX</td>\n",
       "    </tr>\n",
       "    <tr>\n",
       "      <th>260</th>\n",
       "      <td>Yemen, Rep.</td>\n",
       "      <td>YEM</td>\n",
       "    </tr>\n",
       "    <tr>\n",
       "      <th>261</th>\n",
       "      <td>South Africa</td>\n",
       "      <td>ZAF</td>\n",
       "    </tr>\n",
       "    <tr>\n",
       "      <th>262</th>\n",
       "      <td>Zambia</td>\n",
       "      <td>ZMB</td>\n",
       "    </tr>\n",
       "    <tr>\n",
       "      <th>263</th>\n",
       "      <td>Zimbabwe</td>\n",
       "      <td>ZWE</td>\n",
       "    </tr>\n",
       "  </tbody>\n",
       "</table>\n",
       "<p>264 rows × 2 columns</p>\n",
       "</div>"
      ],
      "text/plain": [
       "     Country Name Country Code\n",
       "0           Aruba          ABW\n",
       "1     Afghanistan          AFG\n",
       "2          Angola          AGO\n",
       "3         Albania          ALB\n",
       "4         Andorra          AND\n",
       "..            ...          ...\n",
       "259        Kosovo          XKX\n",
       "260   Yemen, Rep.          YEM\n",
       "261  South Africa          ZAF\n",
       "262        Zambia          ZMB\n",
       "263      Zimbabwe          ZWE\n",
       "\n",
       "[264 rows x 2 columns]"
      ]
     },
     "execution_count": 5,
     "metadata": {},
     "output_type": "execute_result"
    }
   ],
   "source": [
    "df_indicator[['Country Name', 'Country Code']].drop_duplicates()"
   ]
  },
  {
   "cell_type": "markdown",
   "metadata": {},
   "source": [
    "Run the next code cell to see the unique country names in the project data set. Notice that the projects data has two columns for country name. One is called 'countryname' and the other is called 'Country'. The 'Country' column only has NaN values.\n",
    "\n",
    "Another thing of note: It would've been easier to join the two data sets together if the projects data had the [ISO country abbreviations](https://en.wikipedia.org/wiki/ISO_3166-1) like the indicator data has. Unfortunately, the projects data does not have the ISO country abbreviations. To join these two data sets together, you essentially have two choices:\n",
    "* add a column of ISO 3 codes to the projects data set\n",
    "* find the difference between the projects data country names and indicator data country names. Then clean the data so that they are the same.\n",
    "\n",
    "Run the code cell below to see what the project countries look like:"
   ]
  },
  {
   "cell_type": "code",
   "execution_count": 6,
   "metadata": {},
   "outputs": [
    {
     "data": {
      "text/plain": [
       "array(['World;World',\n",
       "       'Democratic Republic of the Congo;Democratic Republic of the Congo',\n",
       "       \"People's Republic of Bangladesh;People's Republic of Bangladesh\",\n",
       "       'Islamic  Republic of Afghanistan;Islamic  Republic of Afghanistan',\n",
       "       'Federal Republic of Nigeria;Federal Republic of Nigeria',\n",
       "       'Republic of Tunisia;Republic of Tunisia',\n",
       "       'Lebanese Republic;Lebanese Republic',\n",
       "       'Democratic Socialist Republic of Sri Lan;Democratic Socialist Republic of Sri Lan',\n",
       "       'Nepal;Nepal', 'Kyrgyz Republic;Kyrgyz Republic',\n",
       "       'Hashemite Kingdom of Jordan;Hashemite Kingdom of Jordan',\n",
       "       'Republic of the Union of Myanmar;Republic of the Union of Myanmar',\n",
       "       'Arab Republic of Egypt;Arab Republic of Egypt',\n",
       "       'United Republic of Tanzania;United Republic of Tanzania',\n",
       "       'Federal Democratic Republic of Ethiopia;Federal Democratic Republic of Ethiopia',\n",
       "       'Burkina Faso;Burkina Faso',\n",
       "       'Republic of Uzbekistan;Republic of Uzbekistan', 'Romania;Romania',\n",
       "       'Republic of Ghana;Republic of Ghana',\n",
       "       'Republic of Ecuador;Republic of Ecuador',\n",
       "       'Socialist Republic of Vietnam;Socialist Republic of Vietnam',\n",
       "       \"People's Republic of China;People's Republic of China\",\n",
       "       'Republic of Senegal;Republic of Senegal', 'Grenada;Grenada',\n",
       "       'Co-operative Republic of Guyana;Co-operative Republic of Guyana',\n",
       "       'Central Africa;Central Africa',\n",
       "       'Republic of Indonesia;Republic of Indonesia',\n",
       "       'Republic of Kenya;Republic of Kenya',\n",
       "       'Kingdom of Cambodia;Kingdom of Cambodia',\n",
       "       'Republic of Angola;Republic of Angola',\n",
       "       'Republic of India;Republic of India', 'Africa;Africa',\n",
       "       'Republic of Zambia;Republic of Zambia',\n",
       "       'Republic of Panama;Republic of Panama',\n",
       "       'Kingdom of Tonga;Kingdom of Tonga',\n",
       "       'Islamic Republic of Pakistan;Islamic Republic of Pakistan',\n",
       "       'Republic of Niger;Republic of Niger',\n",
       "       'Republic of Uganda;Republic of Uganda',\n",
       "       'Republic of Madagascar;Republic of Madagascar',\n",
       "       'Plurinational State of Bolivia;Plurinational State of Bolivia',\n",
       "       'Kingdom of Morocco;Kingdom of Morocco',\n",
       "       'Republic of Djibouti;Republic of Djibouti',\n",
       "       'Somali Democratic Republic;Somali Democratic Republic',\n",
       "       'Republic of Maldives;Republic of Maldives',\n",
       "       'Central African Republic;Central African Republic',\n",
       "       'Western Africa;Western Africa',\n",
       "       'Republic of Cabo Verde;Republic of Cabo Verde',\n",
       "       \"Republic of Cote d'Ivoire;Republic of Cote d'Ivoire\",\n",
       "       'Montenegro;Montenegro', 'West Bank and Gaza;West Bank and Gaza',\n",
       "       'Republic of Haiti;Republic of Haiti',\n",
       "       'Republic of Guinea-Bissau;Republic of Guinea-Bissau',\n",
       "       'Samoa;Samoa', 'Republic of Congo;Republic of Congo',\n",
       "       'Federated States of Micronesia;Federated States of Micronesia',\n",
       "       'Republic of the Marshall Islands;Republic of the Marshall Islands',\n",
       "       'Republic of Rwanda;Republic of Rwanda',\n",
       "       'Republic of Albania;Republic of Albania',\n",
       "       'Republic of Burundi;Republic of Burundi',\n",
       "       'Argentine Republic;Argentine Republic',\n",
       "       'Pacific Islands;Pacific Islands',\n",
       "       'Republic of Turkey;Republic of Turkey',\n",
       "       'Democratic Republic of Sao Tome and Prin;Democratic Republic of Sao Tome and Prin',\n",
       "       'Republic of The Gambia;Republic of The Gambia',\n",
       "       \"Lao People's Democratic Republic;Lao People's Democratic Republic\",\n",
       "       'Republic of Liberia;Republic of Liberia',\n",
       "       'Republic of Benin;Republic of Benin',\n",
       "       'Republic of Mozambique;Republic of Mozambique',\n",
       "       'Kingdom of Bhutan;Kingdom of Bhutan',\n",
       "       'Republic of Cameroon;Republic of Cameroon',\n",
       "       'Republic of Chad;Republic of Chad',\n",
       "       'Republic of Guinea;Republic of Guinea',\n",
       "       'Republic of Yemen;Republic of Yemen',\n",
       "       'Commonwealth of Dominica;Commonwealth of Dominica',\n",
       "       'Republic of Palau;Republic of Palau',\n",
       "       'Republic of Malawi;Republic of Malawi',\n",
       "       'Republic of Serbia;Republic of Serbia',\n",
       "       'Republic of Iraq;Republic of Iraq',\n",
       "       'Republic of the Philippines;Republic of the Philippines',\n",
       "       'Solomon Islands;Solomon Islands',\n",
       "       'Republic of Fiji;Republic of Fiji',\n",
       "       'United Mexican States;United Mexican States',\n",
       "       'Republic of Colombia;Republic of Colombia',\n",
       "       'Republic of Peru;Republic of Peru',\n",
       "       'Republic of Mali;Republic of Mali',\n",
       "       'Islamic Republic of Mauritania;Islamic Republic of Mauritania',\n",
       "       'Republic of Nicaragua;Republic of Nicaragua',\n",
       "       'Republic of Belarus;Republic of Belarus', 'Jamaica;Jamaica',\n",
       "       'Ukraine;Ukraine', 'Republic of Togo;Republic of Togo',\n",
       "       'Republic of Guatemala;Republic of Guatemala',\n",
       "       'Republic of Sierra Leone;Republic of Sierra Leone',\n",
       "       'Republic of Moldova;Republic of Moldova',\n",
       "       'Republic of Armenia;Republic of Armenia',\n",
       "       'Republic of Costa Rica;Republic of Costa Rica',\n",
       "       'Republic of Tajikistan;Republic of Tajikistan',\n",
       "       'Latin America;Latin America',\n",
       "       'Federative Republic of Brazil;Federative Republic of Brazil',\n",
       "       'Bosnia and Herzegovina;Bosnia and Herzegovina',\n",
       "       'Republic of Suriname;Republic of Suriname', 'Mongolia;Mongolia',\n",
       "       'Oriental Republic of Uruguay;Oriental Republic of Uruguay',\n",
       "       'Republic of Kiribati;Republic of Kiribati',\n",
       "       'Kingdom of Lesotho;Kingdom of Lesotho', 'Tuvalu;Tuvalu',\n",
       "       'Southern Africa;Southern Africa', 'Georgia;Georgia',\n",
       "       'Gabonese Republic;Gabonese Republic',\n",
       "       'Republic of Chile;Republic of Chile',\n",
       "       'Republic of Kosovo;Republic of Kosovo',\n",
       "       'Dominican Republic;Dominican Republic',\n",
       "       'Organization of Eastern Caribbean States;Organization of Eastern Caribbean States',\n",
       "       'Caribbean;Caribbean', 'Republic of Zimbabwe;Republic of Zimbabwe',\n",
       "       'Republic of Mauritius;Republic of Mauritius',\n",
       "       'The Independent State of Papua New Guine;The Independent State of Papua New Guine',\n",
       "       'Republic of Vanuatu;Republic of Vanuatu',\n",
       "       'Eastern Africa;Eastern Africa',\n",
       "       'St. Vincent and the Grenadines;St. Vincent and the Grenadines',\n",
       "       'Republic of Honduras;Republic of Honduras',\n",
       "       'Republic of South Sudan;Republic of South Sudan',\n",
       "       'Republic of Croatia;Republic of Croatia',\n",
       "       'Democratic Republic of Timor-Leste;Democratic Republic of Timor-Leste',\n",
       "       'Republic of South Africa;Republic of South Africa',\n",
       "       'Republic of Botswana;Republic of Botswana',\n",
       "       'Republic of Kazakhstan;Republic of Kazakhstan',\n",
       "       'Republic of Azerbaijan;Republic of Azerbaijan',\n",
       "       'Kingdom of Swaziland;Kingdom of Swaziland',\n",
       "       'Union of the Comoros;Union of the Comoros',\n",
       "       'Turkmenistan;Turkmenistan',\n",
       "       'Europe and Central Asia;Europe and Central Asia',\n",
       "       'South Asia;South Asia',\n",
       "       'Macedonia; former Yugoslav Republic of;Macedonia; former Yugoslav Republic of',\n",
       "       'St. Lucia;St. Lucia', 'Belize;Belize',\n",
       "       'Republic of Namibia;Republic of Namibia',\n",
       "       'Republic of the Sudan;Republic of the Sudan',\n",
       "       'Republic of Paraguay;Republic of Paraguay',\n",
       "       'Western Balkans;Western Balkans',\n",
       "       'East Asia and Pacific;East Asia and Pacific',\n",
       "       'Republic of Bulgaria;Republic of Bulgaria',\n",
       "       'Central Asia;Central Asia',\n",
       "       'Republic of Seychelles;Republic of Seychelles',\n",
       "       'Kingdom of Thailand;Kingdom of Thailand',\n",
       "       'Republic of Poland;Republic of Poland',\n",
       "       'Multi-Regional;Multi-Regional',\n",
       "       'Republic of El Salvador;Republic of El Salvador',\n",
       "       'Caucasus;Caucasus', 'Russian Federation;Russian Federation',\n",
       "       'Middle East and North Africa;Middle East and North Africa',\n",
       "       'Antigua and Barbuda;Antigua and Barbuda',\n",
       "       'Central America;Central America',\n",
       "       'Commonwealth of The Bahamas;Commonwealth of The Bahamas',\n",
       "       'Republic of Trinidad and Tobago;Republic of Trinidad and Tobago',\n",
       "       \"Socialist People's Libyan Arab Jamahiriy;Socialist People's Libyan Arab Jamahiriy\",\n",
       "       'Czech Republic;Czech Republic',\n",
       "       'Republic of Latvia;Republic of Latvia', 'Mekong;Mekong',\n",
       "       'American Samoa;American Samoa',\n",
       "       'Syrian Arab Republic;Syrian Arab Republic', 'Asia;Asia',\n",
       "       'Andean Countries;Andean Countries', 'Hungary;Hungary',\n",
       "       'Republic of Equatorial Guinea;Republic of Equatorial Guinea',\n",
       "       \"People's Democratic Republic of Algeria;People's Democratic Republic of Algeria\",\n",
       "       'Barbados;Barbados', 'Malaysia;Malaysia',\n",
       "       'State of Eritrea;State of Eritrea', 'Mercosur;Mercosur',\n",
       "       'Slovak Republic;Slovak Republic',\n",
       "       'Republica Bolivariana de Venezuela;Republica Bolivariana de Venezuela',\n",
       "       'Islamic Republic of Iran;Islamic Republic of Iran',\n",
       "       'Republic of Lithuania;Republic of Lithuania',\n",
       "       'St. Kitts and Nevis;St. Kitts and Nevis',\n",
       "       'Republic of Korea;Republic of Korea',\n",
       "       'Republic of Slovenia;Republic of Slovenia',\n",
       "       'Republic of Estonia;Republic of Estonia',\n",
       "       'Red Sea and Gulf of Aden;Red Sea and Gulf of Aden',\n",
       "       'Aral Sea;Aral Sea', 'Republic of Cyprus;Republic of Cyprus',\n",
       "       'Socialist Federal Republic of Yugoslavia;Socialist Federal Republic of Yugoslavia',\n",
       "       'Portuguese Republic;Portuguese Republic',\n",
       "       'Sultanate of Oman;Sultanate of Oman',\n",
       "       'Hellenic Republic;Hellenic Republic',\n",
       "       'Kingdom of Spain;Kingdom of Spain', 'Ireland;Ireland',\n",
       "       'Republic of Singapore;Republic of Singapore',\n",
       "       'State of Israel;State of Israel',\n",
       "       'Republic of Finland;Republic of Finland',\n",
       "       'Republic of Iceland;Republic of Iceland',\n",
       "       'New Zealand;New Zealand', 'Taiwan; China;Taiwan; China',\n",
       "       'EU Accession Countries;EU Accession Countries',\n",
       "       'Sint Maarten;Sint Maarten', 'Japan;Japan',\n",
       "       'Italian Republic;Italian Republic',\n",
       "       'Kingdom of Norway;Kingdom of Norway',\n",
       "       'Republic of Malta;Republic of Malta',\n",
       "       'Kingdom of Denmark;Kingdom of Denmark',\n",
       "       'Republic of Austria;Republic of Austria',\n",
       "       'Commonwealth of Australia;Commonwealth of Australia',\n",
       "       'Kingdom of Belgium;Kingdom of Belgium',\n",
       "       'Kingdom of the Netherlands;Kingdom of the Netherlands',\n",
       "       'Grand Duchy of Luxembourg;Grand Duchy of Luxembourg',\n",
       "       'French Republic;French Republic'], dtype=object)"
      ]
     },
     "execution_count": 6,
     "metadata": {},
     "output_type": "execute_result"
    }
   ],
   "source": [
    "df_projects['countryname'].unique()"
   ]
  },
  {
   "cell_type": "markdown",
   "metadata": {},
   "source": [
    "# Part 2 - Use the Pycountry library\n",
    "\n",
    "Did you notice a pattern in the projects data country names? The entries are repeated and separated by a semi-colon like this:\n",
    "```text\n",
    "'Kingdom of Spain;Kingdom of Spain'\n",
    "'New Zealand;New Zealand'\n",
    "```\n",
    "\n",
    "The first step is to clean the country name column and get rid of the semi-colon. Do that below:"
   ]
  },
  {
   "cell_type": "code",
   "execution_count": 7,
   "metadata": {},
   "outputs": [],
   "source": [
    "### \n",
    "#\n",
    "# TODO: In the df_projects dataframe, create a new column called 'Official Country Name' so that the country name only appears once. \n",
    "# For example, `Republic of Malta;Republic of Malta` should be `Republic of Malta`.\n",
    "#\n",
    "# HINT: use the split() method - see https://pandas.pydata.org/pandas-docs/stable/text.html for examples\n",
    "# HINT: with pandas, you can do all of this with just one line of code\n",
    "###\n",
    "\n",
    "df_projects['Official Country Name'] = df_projects['countryname'].str.split(';').str[0]"
   ]
  },
  {
   "cell_type": "markdown",
   "metadata": {},
   "source": [
    "It looks like the projects data set has official country names. Hence, this data set has an entry like \"Kingdom of Spain\" whereas the indicators data has just \"Spain\".\n",
    "\n",
    "Luckily, someone has developed a Python library called [pycountry](https://pypi.org/project/pycountry/). This library has country names, ISO abbreviations, and official country names. While you might not be able to clean all of the data with the help of this Python library, it will probably help. \n",
    "\n",
    "Run the code cells below to install the pycountry library and see how it works."
   ]
  },
  {
   "cell_type": "code",
   "execution_count": 8,
   "metadata": {},
   "outputs": [
    {
     "name": "stdout",
     "output_type": "stream",
     "text": [
      "Collecting pycountry\n",
      "  Downloading pycountry-22.3.5.tar.gz (10.1 MB)\n",
      "  Installing build dependencies: started\n",
      "  Installing build dependencies: finished with status 'done'\n",
      "  Getting requirements to build wheel: started\n",
      "  Getting requirements to build wheel: finished with status 'done'\n",
      "    Preparing wheel metadata: started\n",
      "    Preparing wheel metadata: finished with status 'done'\n",
      "Requirement already satisfied: setuptools in c:\\users\\vivi\\anaconda3\\lib\\site-packages (from pycountry) (52.0.0.post20210125)\n",
      "Building wheels for collected packages: pycountry\n",
      "  Building wheel for pycountry (PEP 517): started\n",
      "  Building wheel for pycountry (PEP 517): finished with status 'done'\n",
      "  Created wheel for pycountry: filename=pycountry-22.3.5-py2.py3-none-any.whl size=10681832 sha256=018f1cc78eaaa3753ed684eed4cf99db008378f57d36987d132fc7472fcd98f3\n",
      "  Stored in directory: c:\\users\\vivi\\appdata\\local\\pip\\cache\\wheels\\e2\\aa\\0f\\c224e473b464387170b83ca7c66947b4a7e33e8d903a679748\n",
      "Successfully built pycountry\n",
      "Installing collected packages: pycountry\n",
      "Successfully installed pycountry-22.3.5\n"
     ]
    }
   ],
   "source": [
    "# Run this code cell to install and import the pycountry library\n",
    "!pip install pycountry\n",
    "from pycountry import countries"
   ]
  },
  {
   "cell_type": "code",
   "execution_count": 9,
   "metadata": {},
   "outputs": [
    {
     "data": {
      "text/plain": [
       "Country(alpha_2='ES', alpha_3='ESP', flag='🇪🇸', name='Spain', numeric='724', official_name='Kingdom of Spain')"
      ]
     },
     "execution_count": 9,
     "metadata": {},
     "output_type": "execute_result"
    }
   ],
   "source": [
    "# Run this code cell to see an example of how the library works\n",
    "countries.get(name='Spain')"
   ]
  },
  {
   "cell_type": "code",
   "execution_count": 10,
   "metadata": {},
   "outputs": [
    {
     "data": {
      "text/plain": [
       "Country(alpha_2='ES', alpha_3='ESP', flag='🇪🇸', name='Spain', numeric='724', official_name='Kingdom of Spain')"
      ]
     },
     "execution_count": 10,
     "metadata": {},
     "output_type": "execute_result"
    }
   ],
   "source": [
    "# Run this code cell to see how you can also look up countries without specifying the key\n",
    "countries.lookup('Kingdom of Spain')"
   ]
  },
  {
   "cell_type": "code",
   "execution_count": 11,
   "metadata": {},
   "outputs": [
    {
     "data": {
      "text/plain": [
       "'ESP'"
      ]
     },
     "execution_count": 11,
     "metadata": {},
     "output_type": "execute_result"
    }
   ],
   "source": [
    "countries.lookup('Kingdom of Spain').alpha_3"
   ]
  },
  {
   "cell_type": "markdown",
   "metadata": {},
   "source": [
    "Using the pycountry library, your task is to clean the projects data so that the country names match the indicators data country names. Iterate through the unique countries in df_projects['Country Name']. Create a dictionary mapping the 'Country Name' to the alpha_3 ISO abbreviations. \n",
    "\n",
    "The dictionary should look like:\n",
    "`{'Kingdom of Spain':'ESP'}`\n",
    "\n",
    "If a country name cannot be found in the pycountry library, add it to a list called `country_not_found`."
   ]
  },
  {
   "cell_type": "code",
   "execution_count": null,
   "metadata": {},
   "outputs": [],
   "source": [
    "# set up the libraries and variables\n",
    "from collections import defaultdict\n",
    "country_not_found = [] # stores countries not found in the pycountry library\n",
    "project_country_abbrev_dict = defaultdict(str) # set up an empty dictionary of string values\n",
    "\n",
    "# TODO: iterate through the country names in df_projects. \n",
    "# Create a dictionary mapping the country name to the alpha_3 ISO code\n",
    "for country in df_projects['Official Country Name'].drop_duplicates().sort_values():\n",
    "    try: \n",
    "        # TODO: look up the country name in the pycountry library\n",
    "        # store the country name as the dictionary key and the ISO-3 code as the value\n",
    "        project_country_abbrev_dict[country] = countries.lookup(country).alpha_3\n",
    "    except:\n",
    "        # If the country name is not in the pycountry library, then print out the country name\n",
    "        # And store the results in the country_not_found list\n",
    "        print(country, ' not found')\n",
    "        country_not_found.append(country)"
   ]
  },
  {
   "cell_type": "markdown",
   "metadata": {},
   "source": [
    "Quite a few country names were not in the pycountry library. Some of these are regions like \"South Asia\" or \"Southern Africa\", so it makes sense that these would not show up in the pycountry library.\n",
    "\n",
    "# Part 3 - Making a Manual Mapping\n",
    "\n",
    "Perhaps some of these missing df_projects countries are already in the indicators data set. In the next cell, check if any of the countries in the country_not_found list are in the indicator list of countries."
   ]
  },
  {
   "cell_type": "code",
   "execution_count": null,
   "metadata": {},
   "outputs": [],
   "source": [
    "# Run this cell to iterate through the country_not_found list and check if the country name is in the df_indicator data set\n",
    "indicator_countries = df_indicator[['Country Name', 'Country Code']].drop_duplicates().sort_values(by='Country Name')\n",
    "\n",
    "for country in country_not_found:\n",
    "    if country in indicator_countries['Country Name'].tolist():\n",
    "        print(country)"
   ]
  },
  {
   "cell_type": "markdown",
   "metadata": {},
   "source": [
    "Unfortunately, there aren't too many country names that match between df_indicator and df_projects. This is where data cleaning becomes especially tedious, but in this case, we've done a lot of the work for you.\n",
    "\n",
    "We've manually created a dictionary that maps all of the countries in country_not_found to the ISO-3 alpha codes. You **could** try to do this programatically using some sophisticated string matching rules. That might be worth your time for a larger data set. But in this case, it's probably faster to type out the dictionary."
   ]
  },
  {
   "cell_type": "code",
   "execution_count": null,
   "metadata": {},
   "outputs": [],
   "source": [
    "# run this code cell to load the dictionary\n",
    "\n",
    "country_not_found_mapping = {'Co-operative Republic of Guyana': 'GUY',\n",
    "             'Commonwealth of Australia':'AUS',\n",
    "             'Democratic Republic of Sao Tome and Prin':'STP',\n",
    "             'Democratic Republic of the Congo':'COD',\n",
    "             'Democratic Socialist Republic of Sri Lan':'LKA',\n",
    "             'East Asia and Pacific':'EAS',\n",
    "             'Europe and Central Asia': 'ECS',\n",
    "             'Islamic  Republic of Afghanistan':'AFG',\n",
    "             'Latin America':'LCN',\n",
    "              'Caribbean':'LCN',\n",
    "             'Macedonia':'MKD',\n",
    "             'Middle East and North Africa':'MEA',\n",
    "             'Oriental Republic of Uruguay':'URY',\n",
    "             'Republic of Congo':'COG',\n",
    "             \"Republic of Cote d'Ivoire\":'CIV',\n",
    "             'Republic of Korea':'KOR',\n",
    "             'Republic of Niger':'NER',\n",
    "             'Republic of Kosovo':'XKX',\n",
    "             'Republic of Rwanda':'RWA',\n",
    "              'Republic of The Gambia':'GMB',\n",
    "              'Republic of Togo':'TGO',\n",
    "              'Republic of the Union of Myanmar':'MMR',\n",
    "              'Republica Bolivariana de Venezuela':'VEN',\n",
    "              'Sint Maarten':'SXM',\n",
    "              \"Socialist People's Libyan Arab Jamahiriy\":'LBY',\n",
    "              'Socialist Republic of Vietnam':'VNM',\n",
    "              'Somali Democratic Republic':'SOM',\n",
    "              'South Asia':'SAS',\n",
    "              'St. Kitts and Nevis':'KNA',\n",
    "              'St. Lucia':'LCA',\n",
    "              'St. Vincent and the Grenadines':'VCT',\n",
    "              'State of Eritrea':'ERI',\n",
    "              'The Independent State of Papua New Guine':'PNG',\n",
    "              'West Bank and Gaza':'PSE',\n",
    "              'World':'WLD'}"
   ]
  },
  {
   "cell_type": "markdown",
   "metadata": {},
   "source": [
    "Next, update the project_country_abbrev_dict variable with these new values."
   ]
  },
  {
   "cell_type": "code",
   "execution_count": null,
   "metadata": {},
   "outputs": [],
   "source": [
    "# TODO: Update the project_country_abbrev_dict with the country_not_found_mapping dictionary\n",
    "# HINT: This is relatively straightforward. Python dictionaries have a method called update(), which essentially\n",
    "# appends a dictionary to another dictionary\n",
    "\n",
    "project_country_abbrev_dict.update(country_not_found_mapping)"
   ]
  },
  {
   "cell_type": "markdown",
   "metadata": {},
   "source": [
    "# Part 5 - Make a 'Country Code' Column\n",
    "\n",
    "Next, create a 'Country Code' column in the data_projects data frame. Use the project_country_abbrev_dict and df_projects['Country Name'] column to create a new columns called 'Country 'Code'."
   ]
  },
  {
   "cell_type": "code",
   "execution_count": null,
   "metadata": {},
   "outputs": [],
   "source": [
    "# TODO: Use the project_country_abbrev_dict and the df_projects['Country Name'] column to make a new column\n",
    "# of the alpha-3 country codes. This new column should be called 'Country Code'.\n",
    "\n",
    "df_projects['Country Code'] = df_projects['Official Country Name'].apply(lambda x: project_country_abbrev_dict[x])"
   ]
  },
  {
   "cell_type": "code",
   "execution_count": null,
   "metadata": {},
   "outputs": [],
   "source": [
    "# Run this code cell to see which projects in the df_projects data frame still have no country code abbreviation.\n",
    "# In other words, these projects do not have a matching population value in the df_indicator data frame.\n",
    "df_projects[df_projects['Country Code'] == '']"
   ]
  },
  {
   "cell_type": "markdown",
   "metadata": {},
   "source": [
    "# Conclusion\n",
    "\n",
    "Now the df_projects dataframe and the df_indicator dataframe have a matching column called 'Country Code'. But these two data frames can't be merged quite yet. \n",
    "\n",
    "Each project in the df_projects dataframe also has a date associated with it. The idea would be to merge the df_projects dataframe with the df_indicator dataframe so that each project also had a population value associated with it. There are still more data transformations to do in order for that to be possible. \n",
    "\n",
    "In fact, the **challenge** problem from the previous exercise on merging data would help quite a bit. In that exercise, the indicator data was transformed from a [wide format to a long format](http://pandas.pydata.org/pandas-docs/stable/generated/pandas.melt.html).\n",
    "\n",
    "You could then merge the df_projects dataframe and the df_indicator dataframe using the alpha-3 country abbreviation and the project or indicator year. You can start to see how data transformations become a series of processes that pipeline data from one format into a different format.\n"
   ]
  },
  {
   "cell_type": "code",
   "execution_count": null,
   "metadata": {},
   "outputs": [],
   "source": []
  }
 ],
 "metadata": {
  "kernelspec": {
   "display_name": "Python 3",
   "language": "python",
   "name": "python3"
  },
  "language_info": {
   "codemirror_mode": {
    "name": "ipython",
    "version": 3
   },
   "file_extension": ".py",
   "mimetype": "text/x-python",
   "name": "python",
   "nbconvert_exporter": "python",
   "pygments_lexer": "ipython3",
   "version": "3.8.8"
  }
 },
 "nbformat": 4,
 "nbformat_minor": 2
}
